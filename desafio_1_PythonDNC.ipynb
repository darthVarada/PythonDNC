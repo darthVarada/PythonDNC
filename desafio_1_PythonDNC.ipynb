{
  "nbformat": 4,
  "nbformat_minor": 0,
  "metadata": {
    "colab": {
      "provenance": [],
      "authorship_tag": "ABX9TyOIzhNaWSkMxtal6Cr8hRlZ",
      "include_colab_link": true
    },
    "kernelspec": {
      "name": "python3",
      "display_name": "Python 3"
    },
    "language_info": {
      "name": "python"
    }
  },
  "cells": [
    {
      "cell_type": "markdown",
      "metadata": {
        "id": "view-in-github",
        "colab_type": "text"
      },
      "source": [
        "<a href=\"https://colab.research.google.com/github/darthVarada/PythonDNC/blob/main/desafio_1_PythonDNC.ipynb\" target=\"_parent\"><img src=\"https://colab.research.google.com/assets/colab-badge.svg\" alt=\"Open In Colab\"/></a>"
      ]
    },
    {
      "cell_type": "markdown",
      "source": [
        "## desafios DNC Python\n"
      ],
      "metadata": {
        "id": "oi6mx48HaeJi"
      }
    },
    {
      "cell_type": "markdown",
      "source": [
        "### Desafio 1"
      ],
      "metadata": {
        "id": "Q9MrrmOQapyL"
      }
    },
    {
      "cell_type": "code",
      "source": [
        "# PROBLEMA 1\n",
        "\"\"\"\n",
        "Seu primeiro desafio é desenvolver um programa para um depósito de\n",
        "bebidas que valide venda de bebidas para maiores de idade (maior ou\n",
        "igual 18 anos) no mercado, o programa deve receber do usuário os\n",
        "valores do nome e ano que ele nasceu e retornar se ele pode comprar\n",
        "bebidas\n",
        "\"\"\"\n",
        "import datetime\n",
        "#primeiro, uma lista hipotetica de uma loja\n",
        "bebidas = {\"Absinto\" : \"alcoolico\",\n",
        "           \"Cachaça\" : \"alcoolico\",\n",
        "           \"Gim\" : \"alcoolico\",\n",
        "           \"Rum\" : \"alcoolico\",\n",
        "           \"Whisky\" : \"alcoolico\",\n",
        "           \"Vodka\": \"alcoolico\",\n",
        "           \"Cerveja\" : \"alcoolico\",\n",
        "           \"Vinho\" : \"alcoolico\",\n",
        "           \"Champanhe\" : \"alcoolico\",\n",
        "           \"Switchel\" : \"nao alcoolico\",\n",
        "           \"Kombucha\" : \"nao alcoolico\",\n",
        "           \"Conhaque\" : \"alcoolico\",\n",
        "           \"Ginger Ale\" : \"nao alcoolico\",\n",
        "           \"Cajuína\" : \"nao alcoolico\",\n",
        "           \"Soda Italiana\" : \"nao alcoolico\",\n",
        "           \"Refrigerante\" : \"nao alcoolico\"}\n",
        "def validar_venda_bebida(nome, ano_nascimento, bebida):\n",
        "    # validacao de ano\n",
        "    agora = datetime.datetime.now()\n",
        "\n",
        "    # Calcula a idade do usuário\n",
        "    idade = agora.year - ano_nascimento\n",
        "\n",
        "    # Verifica se a bebida é alcoólica\n",
        "    if bebidas.get(bebida) == \"alcoolico\":\n",
        "        # Verifica se o usuário é maior de 18 anos\n",
        "        if idade >= 18:\n",
        "            return f\"{nome}, você pode comprar {bebida}.\"\n",
        "        else:\n",
        "            return f\"{nome}, desculpe, mas você não é maior de idade para comprar {bebida}.\"\n",
        "    else:\n",
        "        return f\"{nome}, você pode comprar {bebida}.\"\n",
        "\n"
      ],
      "metadata": {
        "id": "b2NUg31lapRd"
      },
      "execution_count": 3,
      "outputs": []
    },
    {
      "cell_type": "code",
      "execution_count": 4,
      "metadata": {
        "colab": {
          "base_uri": "https://localhost:8080/"
        },
        "id": "kqw2wFeVZ8Pm",
        "outputId": "32b9e83b-ec1a-4f45-d880-42bcd78b174d"
      },
      "outputs": [
        {
          "output_type": "stream",
          "name": "stdout",
          "text": [
            "Digite seu nome: Victor\n",
            "Digite o ano de nascimento: 2001\n",
            "Digite a bebida desejada: Rum\n",
            "Victor, você pode comprar Rum.\n"
          ]
        }
      ],
      "source": [
        "# Exemplo de uso\n",
        "nome_usuario = input(\"Digite seu nome: \")\n",
        "ano_nascimento_usuario = int(input(\"Digite o ano de nascimento: \"))\n",
        "bebida_desejada = input(\"Digite a bebida desejada: \")\n",
        "\n",
        "resultado = validar_venda_bebida(nome_usuario, ano_nascimento_usuario, bebida_desejada)\n",
        "print(resultado)"
      ]
    },
    {
      "cell_type": "code",
      "source": [
        "# PROBLEMA 2\n",
        "\"\"\"\n",
        "Esse bimestre na faculdade você precisa tirar nota 8 de média para\n",
        "passar na matéria, desenvolva um script que leia a nota de suas\n",
        "últimas 3 provas, tire a média delas e verifique se você passou.\n",
        "\"\"\"\n",
        "#sem input\n",
        "boletim_1 = [6, 4, 9]\n",
        "boletim_2 = [1, 9, 9]\n",
        "boletim_3 = [6, 6, 7]\n",
        "boletim_4 = [7, 8, 10]\n",
        "def passeisera(boletim):\n",
        "  media = sum(boletim) / len(boletim)\n",
        "  resultado = \"Você passou!\" if media >= 8 else \"Você não passou.\"\n",
        "  return resultado\n",
        "\n",
        "# com imput\n",
        "def passeiseraInput():\n",
        "  boletim = []\n",
        "  notas = input(\"Me passe suas notas do boletim (separadas por vírgula): \")\n",
        "  boletim = [int(nota) for nota in notas.split(',')]\n",
        "  media = sum(boletim) / len(boletim)\n",
        "  resultado = \"Você passou!\" if media >= 8 else \"Você não passou.\"\n",
        "  return resultado"
      ],
      "metadata": {
        "id": "F1zu6RPdfqKC"
      },
      "execution_count": 24,
      "outputs": []
    },
    {
      "cell_type": "code",
      "source": [
        "passeiseraInput()"
      ],
      "metadata": {
        "colab": {
          "base_uri": "https://localhost:8080/",
          "height": 55
        },
        "id": "mufcb0jmiW4l",
        "outputId": "c6fc5d86-6cba-4726-de63-bb61b32c5b43"
      },
      "execution_count": 26,
      "outputs": [
        {
          "name": "stdout",
          "output_type": "stream",
          "text": [
            "Me passe suas notas do boletim (separadas por vírgula): 10,10,10,10,9,9\n"
          ]
        },
        {
          "output_type": "execute_result",
          "data": {
            "text/plain": [
              "'Você passou!'"
            ],
            "application/vnd.google.colaboratory.intrinsic+json": {
              "type": "string"
            }
          },
          "metadata": {},
          "execution_count": 26
        }
      ]
    },
    {
      "cell_type": "code",
      "source": [
        "# PROBLEMA 3\n",
        "\"\"\"\n",
        "A fisioterapeuta que você vai gosta muito de brincar com números, e\n",
        "pediu para você criar um sistema que verifique se a altura inserida é\n",
        "par ou impar.\n",
        "\"\"\"\n",
        "def eparouimpar():\n",
        "    altura = float(input(\"Me passe sua altura: \"))\n",
        "\n",
        "    if altura % 2 == 0:\n",
        "        return \"Par\"\n",
        "    else:\n",
        "        return \"Ímpar\"\n",
        "\n"
      ],
      "metadata": {
        "id": "BIUbS8LEkVJM"
      },
      "execution_count": 43,
      "outputs": []
    },
    {
      "cell_type": "code",
      "source": [
        "# Testando a função\n",
        "print(eparouimpar())"
      ],
      "metadata": {
        "colab": {
          "base_uri": "https://localhost:8080/"
        },
        "id": "LTr6bN-ok9s-",
        "outputId": "b6825d7c-ae15-49c5-f5a6-677baf6e4f36"
      },
      "execution_count": 45,
      "outputs": [
        {
          "output_type": "stream",
          "name": "stdout",
          "text": [
            "Me passe sua altura: 1.75\n",
            "Ímpar\n"
          ]
        }
      ]
    },
    {
      "cell_type": "code",
      "source": [
        "# PROBLEMA 4\n",
        "\"\"\"\n",
        "Faça um script que você coloque a quantidade de dias e descubra em\n",
        "qual trimestre esse dia está no ano.\n",
        "\"\"\"\n",
        "def determinar_trimestre():\n",
        "    dia_do_ano = int(input(\"Digite o número do dia no ano (1 a 365): \"))\n",
        "    if 1 <= dia_do_ano <= 90:\n",
        "        return \"1º Trimestre\"\n",
        "    elif 91 <= dia_do_ano <= 180:\n",
        "        return \"2º Trimestre\"\n",
        "    elif 181 <= dia_do_ano <= 270:\n",
        "        return \"3º Trimestre\"\n",
        "    elif 271 <= dia_do_ano <= 365:\n",
        "        return \"4º Trimestre\"\n",
        "    else:\n",
        "        return \"Dia inválido no ano\"\n",
        "\n",
        "# Solicita a entrada do usuário\n",
        "\n",
        "\n",
        "# Chama a função e exibe o resultado\n",
        "#resultado =\n",
        "#print(f\"O dia {dia_do_ano} está no {resultado}.\")\n"
      ],
      "metadata": {
        "id": "-7i-XlLOk_N9"
      },
      "execution_count": 50,
      "outputs": []
    },
    {
      "cell_type": "code",
      "source": [
        "determinar_trimestre()"
      ],
      "metadata": {
        "colab": {
          "base_uri": "https://localhost:8080/",
          "height": 55
        },
        "id": "DVdWkAP2nG5S",
        "outputId": "d8721e5e-a5ad-4ea3-bad3-38cd97a54c7e"
      },
      "execution_count": 51,
      "outputs": [
        {
          "name": "stdout",
          "output_type": "stream",
          "text": [
            "Digite o número do dia no ano (1 a 365): 200\n"
          ]
        },
        {
          "output_type": "execute_result",
          "data": {
            "text/plain": [
              "'3º Trimestre'"
            ],
            "application/vnd.google.colaboratory.intrinsic+json": {
              "type": "string"
            }
          },
          "metadata": {},
          "execution_count": 51
        }
      ]
    },
    {
      "cell_type": "code",
      "source": [
        "#PROBLEMA 5\n",
        "\"\"\"\n",
        "Desenvolva um sistema que leia 3 números e diga qual é o maior (se\n",
        "houver empate, exiba os empatados).\n",
        "\"\"\"\n",
        "def Omaior(numeros):\n",
        "    maior = max(numeros)\n",
        "    empatados = [numero for numero in numeros if numero == maior]\n",
        "\n",
        "    if len(empatados) == 1:\n",
        "        return f\"O maior número é: {maior}\"\n",
        "    else:\n",
        "        return f\"Há um empate! Os números empatados são: {', '.join(map(str, empatados))}\"\n",
        "\n",
        "# Solicita a entrada do usuário\n",
        "numero1 = float(input(\"Digite o primeiro número: \"))\n",
        "numero2 = float(input(\"Digite o segundo número: \"))\n",
        "numero3 = float(input(\"Digite o terceiro número: \"))\n",
        "\n",
        "# Chama a função e exibe o resultado\n",
        "resultados = Omaior([numero1, numero2, numero3])\n",
        "print(resultados)"
      ],
      "metadata": {
        "colab": {
          "base_uri": "https://localhost:8080/"
        },
        "id": "N84pVfOhnRKb",
        "outputId": "2d109735-0783-44fc-b106-f3de713e84f6"
      },
      "execution_count": 52,
      "outputs": [
        {
          "output_type": "stream",
          "name": "stdout",
          "text": [
            "Digite o primeiro número: 3\n",
            "Digite o segundo número: 4\n",
            "Digite o terceiro número: 6\n",
            "O maior número é: 6.0\n"
          ]
        }
      ]
    }
  ]
}